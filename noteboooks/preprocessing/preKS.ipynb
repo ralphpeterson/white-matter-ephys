{
 "cells": [
  {
   "cell_type": "code",
   "execution_count": 2,
   "metadata": {},
   "outputs": [],
   "source": [
    "import sys\n",
    "sys.path.insert(0, 'C:/Users/eei3718/white-matter-ephys/')"
   ]
  },
  {
   "cell_type": "code",
   "execution_count": 3,
   "metadata": {},
   "outputs": [],
   "source": [
    "from wme.preprocessing.util import check_waveforms, preprocess, merge_bins, chunk_bin\n",
    "from wme.util import psth_channel, load_wm\n",
    "from glob import glob\n",
    "import numpy as np\n",
    "import os"
   ]
  },
  {
   "cell_type": "code",
   "execution_count": 9,
   "metadata": {},
   "outputs": [
    {
     "name": "stdout",
     "output_type": "stream",
     "text": [
      "D:/ephys/ABE_4/2022_09_08_15_40_48_526475_ABE_F_BL_vox_bouts_tones\\HSW_2022_09_08__15_41_05__56min_11sec__hsamp_64ch_12500sps.bin\n"
     ]
    }
   ],
   "source": [
    "exp_dir = 'D:/ephys/ABE_4/2022_09_08_15_40_48_526475_ABE_F_BL_vox_bouts_tones/' \n",
    "bin_file = glob(exp_dir+'/*bin')[0]\n",
    "print(bin_file)"
   ]
  },
  {
   "cell_type": "code",
   "execution_count": 10,
   "metadata": {},
   "outputs": [
    {
     "name": "stdout",
     "output_type": "stream",
     "text": [
      "Loading chunk\n",
      "Reshaping and converting to microvolts\n",
      "Reordering channels according to channel map\n",
      "Writing binary file\n",
      "(7500000, 64)\n",
      "Chunk saved to: D:/ephys/ABE_4/2022_09_08_15_40_48_526475_ABE_F_BL_vox_bouts_tones\\HSW_2022_09_08__15_41_05__56min_11sec__hsamp_64ch_12500sps_10min_chunk1.bin\n",
      "\n",
      "Loading chunk\n",
      "Reshaping and converting to microvolts\n",
      "Reordering channels according to channel map\n",
      "Writing binary file\n",
      "(7500000, 64)\n",
      "Chunk saved to: D:/ephys/ABE_4/2022_09_08_15_40_48_526475_ABE_F_BL_vox_bouts_tones\\HSW_2022_09_08__15_41_05__56min_11sec__hsamp_64ch_12500sps_10min_chunk2.bin\n",
      "\n",
      "Loading chunk\n",
      "Reshaping and converting to microvolts\n",
      "Reordering channels according to channel map\n",
      "Writing binary file\n",
      "(7500000, 64)\n",
      "Chunk saved to: D:/ephys/ABE_4/2022_09_08_15_40_48_526475_ABE_F_BL_vox_bouts_tones\\HSW_2022_09_08__15_41_05__56min_11sec__hsamp_64ch_12500sps_10min_chunk3.bin\n",
      "\n",
      "Loading chunk\n",
      "Reshaping and converting to microvolts\n",
      "Reordering channels according to channel map\n",
      "Writing binary file\n",
      "(7500000, 64)\n",
      "Chunk saved to: D:/ephys/ABE_4/2022_09_08_15_40_48_526475_ABE_F_BL_vox_bouts_tones\\HSW_2022_09_08__15_41_05__56min_11sec__hsamp_64ch_12500sps_10min_chunk4.bin\n",
      "\n",
      "Loading chunk\n",
      "Reshaping and converting to microvolts\n",
      "Reordering channels according to channel map\n",
      "Writing binary file\n",
      "(7500000, 64)\n",
      "Chunk saved to: D:/ephys/ABE_4/2022_09_08_15_40_48_526475_ABE_F_BL_vox_bouts_tones\\HSW_2022_09_08__15_41_05__56min_11sec__hsamp_64ch_12500sps_10min_chunk5.bin\n",
      "\n",
      "Loading chunk\n",
      "Reshaping and converting to microvolts\n",
      "Reordering channels according to channel map\n",
      "Writing binary file\n",
      "(4577902, 64)\n",
      "Chunk saved to: D:/ephys/ABE_4/2022_09_08_15_40_48_526475_ABE_F_BL_vox_bouts_tones\\HSW_2022_09_08__15_41_05__56min_11sec__hsamp_64ch_12500sps_10min_chunk6.bin\n",
      "\n",
      "Done\n"
     ]
    }
   ],
   "source": [
    "chunk_bin(bin_file, 10, np.arange(64))"
   ]
  },
  {
   "cell_type": "code",
   "execution_count": 11,
   "metadata": {},
   "outputs": [
    {
     "name": "stdout",
     "output_type": "stream",
     "text": [
      "Loading data\n"
     ]
    },
    {
     "ename": "ValueError",
     "evalue": "cannot reshape array of size 959999108 into shape (64,newaxis)",
     "output_type": "error",
     "traceback": [
      "\u001b[1;31m---------------------------------------------------------------------------\u001b[0m",
      "\u001b[1;31mValueError\u001b[0m                                Traceback (most recent call last)",
      "\u001b[1;32mz:\\intzandt\\code\\preKS.ipynb Cell 5\u001b[0m in \u001b[0;36m<cell line: 3>\u001b[1;34m()\u001b[0m\n\u001b[0;32m      <a href='vscode-notebook-cell:/z%3A/intzandt/code/preKS.ipynb#W4sZmlsZQ%3D%3D?line=0'>1</a>\u001b[0m bin_files \u001b[39m=\u001b[39m glob(exp_dir\u001b[39m+\u001b[39m\u001b[39m'\u001b[39m\u001b[39m/*chunk*\u001b[39m\u001b[39m'\u001b[39m)\n\u001b[1;32m----> <a href='vscode-notebook-cell:/z%3A/intzandt/code/preKS.ipynb#W4sZmlsZQ%3D%3D?line=2'>3</a>\u001b[0m preprocess(bin_files, lowcut\u001b[39m=\u001b[39;49m\u001b[39m200\u001b[39;49m, highcut\u001b[39m=\u001b[39;49m\u001b[39m4000\u001b[39;49m)\n",
      "File \u001b[1;32mC:\\Users/eei3718/white-matter-ephys\\wme\\preprocessing\\util.py:81\u001b[0m, in \u001b[0;36mpreprocess\u001b[1;34m(bin_files, lowcut, highcut)\u001b[0m\n\u001b[0;32m     78\u001b[0m sr_phys\u001b[39m=\u001b[39m\u001b[39mint\u001b[39m(file\u001b[39m.\u001b[39msplit(\u001b[39m'\u001b[39m\u001b[39m_\u001b[39m\u001b[39m'\u001b[39m)[\u001b[39m-\u001b[39m\u001b[39m3\u001b[39m][:\u001b[39m-\u001b[39m\u001b[39m3\u001b[39m])\n\u001b[0;32m     80\u001b[0m \u001b[39mprint\u001b[39m(\u001b[39m'\u001b[39m\u001b[39mLoading data\u001b[39m\u001b[39m'\u001b[39m)\n\u001b[1;32m---> 81\u001b[0m data \u001b[39m=\u001b[39m np\u001b[39m.\u001b[39;49mfromfile(file, dtype\u001b[39m=\u001b[39;49m\u001b[39m'\u001b[39;49m\u001b[39mint16\u001b[39;49m\u001b[39m'\u001b[39;49m)\u001b[39m.\u001b[39;49mreshape((\u001b[39m64\u001b[39;49m, \u001b[39m-\u001b[39;49m\u001b[39m1\u001b[39;49m), order\u001b[39m=\u001b[39;49m\u001b[39m'\u001b[39;49m\u001b[39mF\u001b[39;49m\u001b[39m'\u001b[39;49m)\n\u001b[0;32m     83\u001b[0m \u001b[39mprint\u001b[39m(\u001b[39m'\u001b[39m\u001b[39mBandpassing\u001b[39m\u001b[39m'\u001b[39m)\n\u001b[0;32m     84\u001b[0m data_filt \u001b[39m=\u001b[39m butter_bandpass_filter(data, lowcut, highcut, sr_phys, axis\u001b[39m=\u001b[39m\u001b[39m1\u001b[39m)\n",
      "\u001b[1;31mValueError\u001b[0m: cannot reshape array of size 959999108 into shape (64,newaxis)"
     ]
    }
   ],
   "source": [
    "bin_files = glob(exp_dir+'/*chunk*')\n",
    "\n",
    "preprocess(bin_files, lowcut=200, highcut=4000)"
   ]
  },
  {
   "cell_type": "code",
   "execution_count": 8,
   "metadata": {},
   "outputs": [
    {
     "name": "stdout",
     "output_type": "stream",
     "text": [
      "Merge file saved to: D:/ephys/ABH_4/2022_11_18_11_16_01_547907_ABH_4_M_BR_P51_3300um_vox_controls_tones\\preKS_HSW_2022_11_18__11_17_05__43min_40sec__hsamp_64ch_25000sps.bin\n"
     ]
    }
   ],
   "source": [
    "bin_files = glob(exp_dir+'/*preprocessed*')\n",
    "outdir = bin_file.replace('HSW', 'preKS_HSW')\n",
    "\n",
    "merge_bins(bin_files, outdir)"
   ]
  },
  {
   "cell_type": "code",
   "execution_count": null,
   "metadata": {},
   "outputs": [
    {
     "name": "stdout",
     "output_type": "stream",
     "text": [
      "['D:/ephys/ABE_4/2022_09_28_16_33_51_539743_ABE_F_BL_vox_bouts_tones\\\\HSW_2022_09_28__16_34_32__55min_39sec__hsamp_64ch_25000sps_10min_chunk1.bin', 'D:/ephys/ABE_4/2022_09_28_16_33_51_539743_ABE_F_BL_vox_bouts_tones\\\\HSW_2022_09_28__16_34_32__55min_39sec__hsamp_64ch_25000sps_10min_chunk1_preprocessed.bin', 'D:/ephys/ABE_4/2022_09_28_16_33_51_539743_ABE_F_BL_vox_bouts_tones\\\\HSW_2022_09_28__16_34_32__55min_39sec__hsamp_64ch_25000sps_10min_chunk2.bin', 'D:/ephys/ABE_4/2022_09_28_16_33_51_539743_ABE_F_BL_vox_bouts_tones\\\\HSW_2022_09_28__16_34_32__55min_39sec__hsamp_64ch_25000sps_10min_chunk2_preprocessed.bin', 'D:/ephys/ABE_4/2022_09_28_16_33_51_539743_ABE_F_BL_vox_bouts_tones\\\\HSW_2022_09_28__16_34_32__55min_39sec__hsamp_64ch_25000sps_10min_chunk3.bin', 'D:/ephys/ABE_4/2022_09_28_16_33_51_539743_ABE_F_BL_vox_bouts_tones\\\\HSW_2022_09_28__16_34_32__55min_39sec__hsamp_64ch_25000sps_10min_chunk3_preprocessed.bin', 'D:/ephys/ABE_4/2022_09_28_16_33_51_539743_ABE_F_BL_vox_bouts_tones\\\\HSW_2022_09_28__16_34_32__55min_39sec__hsamp_64ch_25000sps_10min_chunk4.bin', 'D:/ephys/ABE_4/2022_09_28_16_33_51_539743_ABE_F_BL_vox_bouts_tones\\\\HSW_2022_09_28__16_34_32__55min_39sec__hsamp_64ch_25000sps_10min_chunk4_preprocessed.bin', 'D:/ephys/ABE_4/2022_09_28_16_33_51_539743_ABE_F_BL_vox_bouts_tones\\\\HSW_2022_09_28__16_34_32__55min_39sec__hsamp_64ch_25000sps_10min_chunk5.bin', 'D:/ephys/ABE_4/2022_09_28_16_33_51_539743_ABE_F_BL_vox_bouts_tones\\\\HSW_2022_09_28__16_34_32__55min_39sec__hsamp_64ch_25000sps_10min_chunk5_preprocessed.bin', 'D:/ephys/ABE_4/2022_09_28_16_33_51_539743_ABE_F_BL_vox_bouts_tones\\\\HSW_2022_09_28__16_34_32__55min_39sec__hsamp_64ch_25000sps_10min_chunk6.bin', 'D:/ephys/ABE_4/2022_09_28_16_33_51_539743_ABE_F_BL_vox_bouts_tones\\\\HSW_2022_09_28__16_34_32__55min_39sec__hsamp_64ch_25000sps_10min_chunk6_preprocessed.bin']\n"
     ]
    }
   ],
   "source": [
    "rm_files = glob(exp_dir + '/*chunk*')\n",
    "print(rm_files)\n",
    "for i in rm_files: os.remove(i)"
   ]
  },
  {
   "cell_type": "code",
   "execution_count": null,
   "metadata": {},
   "outputs": [],
   "source": []
  }
 ],
 "metadata": {
  "kernelspec": {
   "display_name": "Python 3.8.13 ('wme')",
   "language": "python",
   "name": "python3"
  },
  "language_info": {
   "codemirror_mode": {
    "name": "ipython",
    "version": 3
   },
   "file_extension": ".py",
   "mimetype": "text/x-python",
   "name": "python",
   "nbconvert_exporter": "python",
   "pygments_lexer": "ipython3",
   "version": "3.8.13 (default, Mar 28 2022, 06:59:08) [MSC v.1916 64 bit (AMD64)]"
  },
  "orig_nbformat": 4,
  "vscode": {
   "interpreter": {
    "hash": "cabc268d8345759e744d23fb915d13f07323052b4d0d13162c7c301046b44ab5"
   }
  }
 },
 "nbformat": 4,
 "nbformat_minor": 2
}
