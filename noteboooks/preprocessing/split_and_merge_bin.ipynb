{
 "cells": [
  {
   "cell_type": "code",
   "execution_count": 1,
   "id": "ee0c24f2",
   "metadata": {},
   "outputs": [],
   "source": [
    "from wme.preprocessing.util import chunk_bin, preprocess, \n",
    "import numpy as np"
   ]
  },
  {
   "cell_type": "markdown",
   "id": "f3287c09",
   "metadata": {},
   "source": [
    "# Chunk file"
   ]
  },
  {
   "cell_type": "code",
   "execution_count": 7,
   "id": "384a7a98",
   "metadata": {},
   "outputs": [
    {
     "name": "stdout",
     "output_type": "stream",
     "text": [
      "Loading chunk\n",
      "Reshaping and converting to microvolts\n",
      "Reordering channels according to channel map\n",
      "Writing binary file\n",
      "(15000000, 64)\n",
      "Chunk saved to: /Volumes/archive/peterson/_forSorting/HSW_2022_08_15__17_24_03__32min_09sec__hsamp_64ch_25000sps_10min_chunk1.bin\n",
      "\n",
      "Loading chunk\n",
      "Reshaping and converting to microvolts\n",
      "Reordering channels according to channel map\n",
      "Writing binary file\n",
      "(15000000, 64)\n",
      "Chunk saved to: /Volumes/archive/peterson/_forSorting/HSW_2022_08_15__17_24_03__32min_09sec__hsamp_64ch_25000sps_10min_chunk2.bin\n",
      "\n",
      "Loading chunk\n",
      "Reshaping and converting to microvolts\n",
      "Reordering channels according to channel map\n",
      "Writing binary file\n",
      "(15000000, 64)\n",
      "Chunk saved to: /Volumes/archive/peterson/_forSorting/HSW_2022_08_15__17_24_03__32min_09sec__hsamp_64ch_25000sps_10min_chunk3.bin\n",
      "\n",
      "Loading chunk\n",
      "Reshaping and converting to microvolts\n",
      "Reordering channels according to channel map\n",
      "Writing binary file\n",
      "(3155737, 64)\n",
      "Chunk saved to: /Volumes/archive/peterson/_forSorting/HSW_2022_08_15__17_24_03__32min_09sec__hsamp_64ch_25000sps_10min_chunk4.bin\n",
      "\n",
      "Done\n"
     ]
    }
   ],
   "source": [
    "files_to_chunk = ['/Volumes/archive/peterson/_forSorting/HSW_2022_08_15__17_24_03__32min_09sec__hsamp_64ch_25000sps.bin',\n",
    "                  '/Volumes/archive/peterson/_forSorting/HSW_2022_08_15__17_56_24__15min_31sec__hsamp_64ch_25000sps.bin']\n",
    "\n",
    "# channel_map = np.load('/Users/ralph/Desktop/schnanes/UCLA_64H_chanMap.npy')\n",
    "\n",
    "#TODO\n",
    "#[ ] confirm channel map ordering for kilsort, then auto populate channel map and n_channels\n",
    "\n",
    "n_channels = 64\n",
    "channel_map = np.arange(n_channels)\n",
    "\n",
    "for file in files_to_chunk:\n",
    "    chunk_bin(file, 10, channel_map)\n",
    "    print()"
   ]
  },
  {
   "cell_type": "code",
   "execution_count": null,
   "id": "6afd83d2",
   "metadata": {},
   "outputs": [],
   "source": []
  },
  {
   "cell_type": "markdown",
   "id": "5ff5f8a6",
   "metadata": {},
   "source": [
    "# Reference"
   ]
  },
  {
   "cell_type": "code",
   "execution_count": 8,
   "id": "7bb92958",
   "metadata": {},
   "outputs": [],
   "source": [
    "files = ['/Volumes/archive/peterson/_forSorting/HSW_2022_08_15__17_24_03__32min_09sec__hsamp_64ch_25000sps_10min_chunk1.bin',\n",
    "         '/Volumes/archive/peterson/_forSorting/HSW_2022_08_15__17_24_03__32min_09sec__hsamp_64ch_25000sps_10min_chunk2.bin',\n",
    "         '/Volumes/archive/peterson/_forSorting/HSW_2022_08_15__17_24_03__32min_09sec__hsamp_64ch_25000sps_10min_chunk3.bin',\n",
    "         '/Volumes/archive/peterson/_forSorting/HSW_2022_08_15__17_24_03__32min_09sec__hsamp_64ch_25000sps_10min_chunk4.bin',\n",
    "         '/Volumes/archive/peterson/_forSorting/HSW_2022_08_15__17_56_24__15min_31sec__hsamp_64ch_25000sps_10min_chunk1.bin',\n",
    "         '/Volumes/archive/peterson/_forSorting/HSW_2022_08_15__17_56_24__15min_31sec__hsamp_64ch_25000sps_10min_chunk2.bin',\n",
    "         '/Volumes/archive/peterson/_forSorting/HSW_2022_08_15__17_56_24__15min_31sec__hsamp_64ch_25000sps_10min_chunk3.bin']"
   ]
  },
  {
   "cell_type": "code",
   "execution_count": 27,
   "id": "26e59302",
   "metadata": {},
   "outputs": [
    {
     "name": "stdout",
     "output_type": "stream",
     "text": [
      "Loading data\n",
      "Bandpassing\n",
      "Computing common reference\n",
      "Subtracting reference from bandbpassed data\n",
      "Saving pre-processed data: /Users/ralph/Downloads/HSW_2022_06_27__11_31_52__05min_04sec__hsamp_64ch_20000sps_1min_chunk1_preprocessed.bin\n",
      "\n",
      "Loading data\n",
      "Bandpassing\n",
      "Computing common reference\n",
      "Subtracting reference from bandbpassed data\n",
      "Saving pre-processed data: /Users/ralph/Downloads/HSW_2022_06_27__11_31_52__05min_04sec__hsamp_64ch_20000sps_1min_chunk2_preprocessed.bin\n",
      "\n",
      "Loading data\n",
      "Bandpassing\n",
      "Computing common reference\n",
      "Subtracting reference from bandbpassed data\n",
      "Saving pre-processed data: /Users/ralph/Downloads/HSW_2022_06_27__11_31_52__05min_04sec__hsamp_64ch_20000sps_1min_chunk3_preprocessed.bin\n",
      "\n",
      "Loading data\n",
      "Bandpassing\n",
      "Computing common reference\n",
      "Subtracting reference from bandbpassed data\n",
      "Saving pre-processed data: /Users/ralph/Downloads/HSW_2022_06_27__11_31_52__05min_04sec__hsamp_64ch_20000sps_1min_chunk4_preprocessed.bin\n",
      "\n",
      "Loading data\n",
      "Bandpassing\n",
      "Computing common reference\n",
      "Subtracting reference from bandbpassed data\n",
      "Saving pre-processed data: /Users/ralph/Downloads/HSW_2022_06_27__11_31_52__05min_04sec__hsamp_64ch_20000sps_1min_chunk5_preprocessed.bin\n",
      "\n",
      "Loading data\n",
      "Bandpassing\n",
      "Computing common reference\n",
      "Subtracting reference from bandbpassed data\n",
      "Saving pre-processed data: /Users/ralph/Downloads/HSW_2022_06_27__11_31_52__05min_04sec__hsamp_64ch_20000sps_1min_chunk6_preprocessed.bin\n",
      "\n",
      "Done\n"
     ]
    }
   ],
   "source": [
    "preprocess(files)"
   ]
  },
  {
   "cell_type": "markdown",
   "id": "b87d3525",
   "metadata": {},
   "source": [
    "# Merge bin files"
   ]
  },
  {
   "cell_type": "code",
   "execution_count": 2,
   "id": "b7f0d71d",
   "metadata": {},
   "outputs": [],
   "source": [
    "merge_file = '/Volumes/archive/peterson/_forSorting/HSW_2022_08_15__17_24_03_merge_preprocessed.bin'\n",
    "pre_processed_files = [i.replace('.bin', '_preprocessed.bin') for i in files]"
   ]
  },
  {
   "cell_type": "code",
   "execution_count": 3,
   "id": "abe14a78",
   "metadata": {},
   "outputs": [
    {
     "name": "stdout",
     "output_type": "stream",
     "text": [
      "Merge file saved to: /Users/ralph/Downloads/merge_test_preprocessed.bin\n"
     ]
    }
   ],
   "source": [
    "merge_bins(pre_processed_files, merge_file)"
   ]
  }
 ],
 "metadata": {
  "kernelspec": {
   "display_name": "Python 3.9.7 64-bit",
   "language": "python",
   "name": "python3"
  },
  "language_info": {
   "codemirror_mode": {
    "name": "ipython",
    "version": 3
   },
   "file_extension": ".py",
   "mimetype": "text/x-python",
   "name": "python",
   "nbconvert_exporter": "python",
   "pygments_lexer": "ipython3",
   "version": "3.9.7"
  },
  "vscode": {
   "interpreter": {
    "hash": "aee8b7b246df8f9039afb4144a1f6fd8d2ca17a180786b69acc140d282b71a49"
   }
  }
 },
 "nbformat": 4,
 "nbformat_minor": 5
}
